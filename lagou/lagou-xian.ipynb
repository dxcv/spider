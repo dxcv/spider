{
 "cells": [
  {
   "cell_type": "markdown",
   "metadata": {},
   "source": [
    "# 从拉勾网数据，看西安的工作机会"
   ]
  },
  {
   "cell_type": "markdown",
   "metadata": {},
   "source": [
    "## 数据来源\n",
    "自己写爬虫程序，爬取了拉勾网在西安所有的招聘企业和职位。存在MongoDB数据库中。<br>\n",
    "选择拉勾网是因为它的职位信息用JSON格式保存，省去了查找内容的麻烦。用MongoDB是想练习MongoDB的使用。<br>\n",
    "在使用MongoDB之前，是将获得的信息保存为csv格式。使用csv保存信息在检查重复项时比较麻烦，需要先读取csv文件，然后再判断数据是否重复。但是用MongoDB，可以直接对数据库进行操作，节省了判断重复和写入csv的时间。"
   ]
  },
  {
   "cell_type": "markdown",
   "metadata": {},
   "source": [
    "|字段|内容|\n",
    "|----|----|\n",
    "|positionId|职位ID|\n",
    "|companyID|公司ID|\n",
    "|positionName|职位名|\n",
    "|workYear|工作经验|\n",
    "|education|学历|\n",
    "|jobNature|工作性质（全职\\兼职）|\n",
    "|createTime|创建时间|\n",
    "|salary|薪酬|\n",
    "|industryField|行业|\n",
    "|financeStage|融资状态|\n",
    "|companySize|公司规模|\n",
    "|companyFullName|公司全名|\n",
    "|firstType|职位一级分类|\n",
    "|secondType|职位二级分类|\n",
    "|district|区域|"
   ]
  },
  {
   "cell_type": "markdown",
   "metadata": {},
   "source": [
    "## 分析目的\n",
    "希望通过对所有招聘企业和职位的分析，获得：\n",
    "* 企业的区域、规模、行业和融资情况分布；\n",
    "* 职位的工作经验，学历，薪酬分布。"
   ]
  },
  {
   "cell_type": "markdown",
   "metadata": {},
   "source": [
    "## 结论\n",
    "1. 找工作，换工作首选高新区，机会最多；\n",
    "2. 有1-3年工作经验，大专学历以上的机会最多，是跳槽的好时机；\n",
    "3. 如果不介意初创型企业，满足结论2的可以尝试，毕竟机会多；\n",
    "4. 懂销售的人，哪里都需要；\n",
    "5. 从事技术开发的人，如果月薪达不到9000，赶紧考虑跳槽；\n",
    "6. 在成熟型大企业，如果一个月工资不到8000，就已经拖了企业后腿。努力点，可以达到10000；\n",
    "7. 硕士生如果跳槽，月薪往10000以上谈，否则都不好意思和人打招呼；\n",
    "8. 年轻人好好工作，十年以后实现财务自由不是梦。"
   ]
  },
  {
   "cell_type": "markdown",
   "metadata": {},
   "source": [
    "导入所需的库"
   ]
  },
  {
   "cell_type": "code",
   "execution_count": 1,
   "metadata": {},
   "outputs": [
    {
     "name": "stdout",
     "output_type": "stream",
     "text": [
      "Populating the interactive namespace from numpy and matplotlib\n"
     ]
    }
   ],
   "source": [
    "import pandas as pd\n",
    "import numpy as np\n",
    "from IPython import display\n",
    "import matplotlib.pyplot as plt\n",
    "import seaborn as sns\n",
    "sns.set_style('whitegrid')\n",
    "\n",
    "from jupyterthemes import jtplot\n",
    "jtplot.style(theme='grade3')\n",
    "\n",
    "from pymongo import MongoClient\n",
    "%pylab inline\n",
    "plt.rcParams['font.sans-serif'] = ['SimHei'] # 步骤一（替换sans-serif字体）\n",
    "plt.rcParams['axes.unicode_minus'] = False   # 步骤二（解决坐标轴负数的负号显示问题)"
   ]
  },
  {
   "cell_type": "markdown",
   "metadata": {},
   "source": [
    "连接到MongoDB。"
   ]
  },
  {
   "cell_type": "code",
   "execution_count": 26,
   "metadata": {
    "collapsed": true,
    "scrolled": true
   },
   "outputs": [],
   "source": [
    "client = MongoClient('mongodb://127.0.0.1/lagou')\n",
    "db = client.lagou\n",
    "collection = db.dataset\n",
    "\n",
    "# 直接从MongoDB读取数据，并且删除“_id”。\n",
    "df = pd.DataFrame(list(collection.find()))\n",
    "df.drop(['_id'], inplace = True, axis=1)"
   ]
  },
  {
   "cell_type": "code",
   "execution_count": 27,
   "metadata": {},
   "outputs": [
    {
     "data": {
      "text/html": [
       "<div>\n",
       "<style>\n",
       "    .dataframe thead tr:only-child th {\n",
       "        text-align: right;\n",
       "    }\n",
       "\n",
       "    .dataframe thead th {\n",
       "        text-align: left;\n",
       "    }\n",
       "\n",
       "    .dataframe tbody tr th {\n",
       "        vertical-align: top;\n",
       "    }\n",
       "</style>\n",
       "<table border=\"1\" class=\"dataframe\">\n",
       "  <thead>\n",
       "    <tr style=\"text-align: right;\">\n",
       "      <th></th>\n",
       "      <th>adWord</th>\n",
       "      <th>appShow</th>\n",
       "      <th>approve</th>\n",
       "      <th>businessZones</th>\n",
       "      <th>city</th>\n",
       "      <th>companyFullName</th>\n",
       "      <th>companyId</th>\n",
       "      <th>companyLabelList</th>\n",
       "      <th>companyLogo</th>\n",
       "      <th>companyShortName</th>\n",
       "      <th>...</th>\n",
       "      <th>positionAdvantage</th>\n",
       "      <th>positionId</th>\n",
       "      <th>positionLables</th>\n",
       "      <th>positionName</th>\n",
       "      <th>promotionScoreExplain</th>\n",
       "      <th>publisherId</th>\n",
       "      <th>salary</th>\n",
       "      <th>score</th>\n",
       "      <th>secondType</th>\n",
       "      <th>workYear</th>\n",
       "    </tr>\n",
       "  </thead>\n",
       "  <tbody>\n",
       "    <tr>\n",
       "      <th>0</th>\n",
       "      <td>0</td>\n",
       "      <td>0</td>\n",
       "      <td>1</td>\n",
       "      <td>[文景路, 张家堡]</td>\n",
       "      <td>西安</td>\n",
       "      <td>广州市有车以后信息科技有限公司</td>\n",
       "      <td>54727</td>\n",
       "      <td>[股票期权, 带薪年假, 年度旅游, 弹性工作]</td>\n",
       "      <td>i/image2/M00/1D/C4/CgoB5loJkmeAP1BTAADr8BrnE1g...</td>\n",
       "      <td>有车以后</td>\n",
       "      <td>...</td>\n",
       "      <td>C轮、大平台、高成长、高提成</td>\n",
       "      <td>3556706</td>\n",
       "      <td>[汽车, 媒体, 商务拓展]</td>\n",
       "      <td>客户经理</td>\n",
       "      <td>None</td>\n",
       "      <td>4862291</td>\n",
       "      <td>4k-8k</td>\n",
       "      <td>0</td>\n",
       "      <td>商务拓展/BD</td>\n",
       "      <td>1-3年</td>\n",
       "    </tr>\n",
       "    <tr>\n",
       "      <th>1</th>\n",
       "      <td>0</td>\n",
       "      <td>0</td>\n",
       "      <td>1</td>\n",
       "      <td>None</td>\n",
       "      <td>西安</td>\n",
       "      <td>西安小喵信息科技有限公司</td>\n",
       "      <td>146956</td>\n",
       "      <td>[股票期权, 五险一金, 年底双薪, 专项奖金]</td>\n",
       "      <td>i/image/M00/60/C7/CgqKkVf6HzSAL04AAAAns-vAQ2w8...</td>\n",
       "      <td>小喵科技</td>\n",
       "      <td>...</td>\n",
       "      <td>五险一金,股票期权,午餐补助,BAT背景</td>\n",
       "      <td>2695016</td>\n",
       "      <td>[硬件开发, 模具设计]</td>\n",
       "      <td>高级结构工程师</td>\n",
       "      <td>None</td>\n",
       "      <td>6048989</td>\n",
       "      <td>8k-15k</td>\n",
       "      <td>0</td>\n",
       "      <td>硬件开发</td>\n",
       "      <td>3-5年</td>\n",
       "    </tr>\n",
       "  </tbody>\n",
       "</table>\n",
       "<p>2 rows × 39 columns</p>\n",
       "</div>"
      ],
      "text/plain": [
       "   adWord  appShow  approve businessZones city  companyFullName  companyId  \\\n",
       "0       0        0        1    [文景路, 张家堡]   西安  广州市有车以后信息科技有限公司      54727   \n",
       "1       0        0        1          None   西安     西安小喵信息科技有限公司     146956   \n",
       "\n",
       "           companyLabelList  \\\n",
       "0  [股票期权, 带薪年假, 年度旅游, 弹性工作]   \n",
       "1  [股票期权, 五险一金, 年底双薪, 专项奖金]   \n",
       "\n",
       "                                         companyLogo companyShortName  \\\n",
       "0  i/image2/M00/1D/C4/CgoB5loJkmeAP1BTAADr8BrnE1g...             有车以后   \n",
       "1  i/image/M00/60/C7/CgqKkVf6HzSAL04AAAAns-vAQ2w8...             小喵科技   \n",
       "\n",
       "    ...        positionAdvantage positionId  positionLables positionName  \\\n",
       "0   ...           C轮、大平台、高成长、高提成    3556706  [汽车, 媒体, 商务拓展]         客户经理   \n",
       "1   ...     五险一金,股票期权,午餐补助,BAT背景    2695016    [硬件开发, 模具设计]      高级结构工程师   \n",
       "\n",
       "  promotionScoreExplain publisherId  salary score secondType workYear  \n",
       "0                  None     4862291   4k-8k     0    商务拓展/BD     1-3年  \n",
       "1                  None     6048989  8k-15k     0       硬件开发     3-5年  \n",
       "\n",
       "[2 rows x 39 columns]"
      ]
     },
     "metadata": {},
     "output_type": "display_data"
    },
    {
     "data": {
      "text/plain": [
       "(3193, 39)"
      ]
     },
     "metadata": {},
     "output_type": "display_data"
    }
   ],
   "source": [
    "display(df.head(2))\n",
    "display(df.shape)"
   ]
  },
  {
   "cell_type": "markdown",
   "metadata": {},
   "source": [
    "一共采集到3193条数据，也就是说有3193个职位。检查缺失项。"
   ]
  },
  {
   "cell_type": "code",
   "execution_count": 28,
   "metadata": {},
   "outputs": [
    {
     "data": {
      "text/plain": [
       "adWord                      0\n",
       "appShow                     0\n",
       "approve                     0\n",
       "businessZones            1644\n",
       "city                        0\n",
       "companyFullName             0\n",
       "companyId                   0\n",
       "companyLabelList            0\n",
       "companyLogo                 6\n",
       "companyShortName            0\n",
       "companySize                64\n",
       "createTime                  0\n",
       "deliver                     0\n",
       "district                   32\n",
       "education                   0\n",
       "explain                  3193\n",
       "financeStage               73\n",
       "firstType                   0\n",
       "formatCreateTime            0\n",
       "gradeDescription         3193\n",
       "imState                     0\n",
       "industryField              68\n",
       "industryLables              0\n",
       "isSchoolJob                 0\n",
       "jobNature                   0\n",
       "job_bt                      0\n",
       "lastLogin                   0\n",
       "pcShow                      0\n",
       "plus                     3193\n",
       "positionAdvantage           1\n",
       "positionId                  0\n",
       "positionLables              0\n",
       "positionName                0\n",
       "promotionScoreExplain    3193\n",
       "publisherId                 0\n",
       "salary                      0\n",
       "score                       0\n",
       "secondType                  0\n",
       "workYear                    0\n",
       "dtype: int64"
      ]
     },
     "execution_count": 28,
     "metadata": {},
     "output_type": "execute_result"
    }
   ],
   "source": [
    "df.apply(lambda x: sum(x.isnull()))"
   ]
  },
  {
   "cell_type": "markdown",
   "metadata": {},
   "source": [
    "有一些列数据全部缺失，从名称上也看不出有什么意思，需要全部删除。<br>\n",
    "有一些列存在部分缺失数据，可能是招聘企业在填写公司或职位介绍的时候忽略没有填写。这部分数据在后面分析时，根据需要再决定是否删除。"
   ]
  },
  {
   "cell_type": "code",
   "execution_count": 29,
   "metadata": {},
   "outputs": [],
   "source": [
    "miss_cols = [x for x in df.columns if sum(df[x].isnull()) == 3193]\n",
    "df.drop(miss_cols, axis=1, inplace=True)"
   ]
  },
  {
   "cell_type": "code",
   "execution_count": 30,
   "metadata": {
    "collapsed": true
   },
   "outputs": [],
   "source": [
    "index = pd.MultiIndex.from_arrays([df['companyId'], df['positionId']])"
   ]
  },
  {
   "cell_type": "code",
   "execution_count": null,
   "metadata": {},
   "outputs": [],
   "source": [
    "pd.DataFrame(df, index_col=index)"
   ]
  },
  {
   "cell_type": "code",
   "execution_count": 9,
   "metadata": {
    "collapsed": true
   },
   "outputs": [],
   "source": [
    "def fillnull(x):\n",
    "    if x == '':\n",
    "        return '其他'\n",
    "    elif x == '高新技术产业开发区':\n",
    "        return '高新区'\n",
    "    elif x == '经济技术开发区':\n",
    "        return '经开区'\n",
    "    elif x == '西安国家民用航天产业基地':\n",
    "        return '航天基地'\n",
    "    elif x == '阎良国家航空高新技术产业基地':\n",
    "        return '阎良区'\n",
    "    else:\n",
    "        return x\n",
    "df = df.applymap(lambda x: fillnull(x))"
   ]
  },
  {
   "cell_type": "markdown",
   "metadata": {},
   "source": [
    "因为同一公司会招聘多个职位，因此公司在数据集中会有重复，为了进行公司维度的分析，需要删除重复项。"
   ]
  },
  {
   "cell_type": "code",
   "execution_count": 10,
   "metadata": {},
   "outputs": [
    {
     "data": {
      "text/plain": [
       "(1582, 5622)"
      ]
     },
     "execution_count": 10,
     "metadata": {},
     "output_type": "execute_result"
    }
   ],
   "source": [
    "df['count'] = 1\n",
    "company_df = df.drop_duplicates('companyID')\n",
    "position_df = df.drop_duplicates('positionId')\n",
    "len(company_df),len(position_df)\n",
    "#company_df.to_csv('company.csv')\n",
    "#position_df.to_csv('position.csv')"
   ]
  },
  {
   "cell_type": "markdown",
   "metadata": {},
   "source": [
    "一共是1582家公司，招聘5622个职位。"
   ]
  },
  {
   "cell_type": "markdown",
   "metadata": {},
   "source": [
    "## 公司维度的分析"
   ]
  },
  {
   "cell_type": "code",
   "execution_count": 11,
   "metadata": {
    "scrolled": false
   },
   "outputs": [
    {
     "name": "stderr",
     "output_type": "stream",
     "text": [
      "C:\\Anaconda3\\lib\\site-packages\\matplotlib\\axes\\_axes.py:545: UserWarning: No labelled objects found. Use label='...' kwarg on individual plots.\n",
      "  warnings.warn(\"No labelled objects found. \"\n"
     ]
    },
    {
     "data": {
      "image/png": "[encoded data removed]",
      "text/plain": [
       "<matplotlib.figure.Figure at 0x1b071d90470>"
      ]
     },
     "metadata": {},
     "output_type": "display_data"
    }
   ],
   "source": [
    "district_count = company_df.groupby('district')['count'].sum().sort_values(ascending=False)\n",
    "position_count = position_df.groupby('district')['count'].sum().sort_values(ascending=False)\n",
    "fig =  plt.figure(figsize=(15,7))\n",
    "sns.barplot(x=list(position_count.index),y=position_count,color='blue',alpha=0.5)\n",
    "district_count['阎良区'] = 0\n",
    "district_count['蓝田县'] = 0\n",
    "district_count = district_count.reindex(list(position_count.index))\n",
    "sns.barplot(x=list(district_count.index),y=-district_count,color='red',alpha=0.5)\n",
    "plt.xticks(range(len(position_count)),list(position_count.index),rotation=0,fontsize=10)\n",
    "sns.despine(left=True)\n",
    "for x, y,z in zip(range(len(position_count)), position_count,district_count):\n",
    "    plt.text(x, y+15, '%d'%y, ha='center', fontsize=15)\n",
    "    plt.text(x, -z-100, '%d'%(z), ha='center', fontsize=15)\n",
    "    \n",
    "plt.text(len(position_count)-2,300,'招聘职位', fontsize=15)\n",
    "plt.text(len(position_count)-2,-300,'招聘公司', fontsize=15)\n",
    "plt.ylim([-700,2500])\n",
    "plt.title('不同区域招聘企业和招聘职位数量',fontsize=15)\n",
    "plt.legend()\n",
    "frame = plt.gca()\n",
    "frame.axes.get_yaxis().set_visible(False)"
   ]
  },
  {
   "cell_type": "markdown",
   "metadata": {},
   "source": [
    "蓝色表示每个区域招聘的职位数量，红色表示招聘的公司数量。<br>\n",
    "因为职位是按照工作地点划分，所有阎良没有公司招聘，但是有两个职位。蓝田没有公司招聘，但是有一个职位。<br>\n",
    "\n",
    "从上面的图可以看出，<font color='red'>高新，雁塔和碑林无论在招聘公司数量还是招聘职位数量上都是前三甲，但是三者之间的差距比较大，两两之间差了一倍</font>。<br>\n",
    "需要注意的是，高新区不是一个行政区域，它是在雁塔区内，因此有些标注雁塔区的公司或者职位，也属于高新区，因此高新区的公司和数量可能会更高。\n",
    "\n",
    "对比西安统计局发布的2016年各区县GDP指标，可以得出，招聘热度与GDP成正比。\n",
    "\n",
    "在公司所从事的行业上，每个公司最多可以选两个，需要对行业创建哑变量。"
   ]
  },
  {
   "cell_type": "code",
   "execution_count": 12,
   "metadata": {
    "scrolled": false
   },
   "outputs": [
    {
     "data": {
      "image/png": "[encoded data removed]",
      "text/plain": [
       "<matplotlib.figure.Figure at 0x1b0724df748>"
      ]
     },
     "metadata": {},
     "output_type": "display_data"
    }
   ],
   "source": [
    "import re\n",
    "\n",
    "###从数据集中抽取所有的行业###\n",
    "#因为公司从事行业的标签不规整，有的以‘，’分隔，有的以‘、’分隔，有的存在空格，\n",
    "#需要用正则表达式进行分隔处理\n",
    "industryField = []\n",
    "for x in company_df['industryField']:\n",
    "    field = str(x).strip()\n",
    "    temp = re.split(',|、',field)\n",
    "    for y in temp:\n",
    "        if str(y).strip() not in industryField:\n",
    "            industryField.append(y)\n",
    "\n",
    "            \n",
    "#在行业中，有‘不限’和‘其他’两种情况，可以合并，删除‘不限’\n",
    "industryField.remove('不限')\n",
    "\n",
    "\n",
    "#生成一个包含所有领域的DataFrame\n",
    "dummies = pd.DataFrame(np.zeros((len(company_df), len(industryField))),\n",
    "                    columns=industryField,\n",
    "                    index=list(company_df.index))\n",
    "\n",
    "#在dummies中，将公司所从事的行业设为1\n",
    "for i, field in zip(list(company_df.index),company_df['industryField']):\n",
    "    field.replace('不限', '其他')\n",
    "    temp = re.split(',|、|\\s',str(field))\n",
    "    if '' in temp:\n",
    "        temp.remove('')\n",
    "    try:\n",
    "        dummies.loc[i, temp] = 1\n",
    "    except KeyError:\n",
    "        continue\n",
    "\n",
    "dummies_count = dummies.apply(lambda x:sum(x))#.sort_values(ascending=False)\n",
    "fig =  plt.figure(figsize=(15,7))\n",
    "plt.scatter(x=range(len(dummies_count.index)),y=dummies_count+dummies_count/20,\n",
    "            s=dummies_count*20, c=sns.color_palette(\"coolwarm_r\",len(dummies_count.index)))\n",
    "plt.ylim([-10,950])\n",
    "plt.xlim([-1.5,19])\n",
    "\n",
    "for x, y,z in zip(range(len(dummies_count.index)),dummies_count+dummies_count/20,list(dummies_count.index)):\n",
    "    plt.text(x,y,'%s'%z,ha='center',fontsize=15)\n",
    "sns.despine(left=True)\n",
    "plt.title('招聘企业行业分布',fontsize=15)\n",
    "frame = plt.gca()\n",
    "frame.axes.get_xaxis().set_visible(False)\n",
    "frame.axes.get_yaxis().set_visible(False)"
   ]
  },
  {
   "cell_type": "markdown",
   "metadata": {},
   "source": [
    "在所有招聘的公司中，<font color='red'>从事移动互联网领域的最多，其次是其他，第三是电子商务</font>。<br>\n",
    "从事数据服务的公司接近100家，这个可以研究一下。但是“其他”排第二就有点匪夷所思，难道这些公司都是从事多元化服务的集团公司，无法确定从事某一具体行业？"
   ]
  },
  {
   "cell_type": "code",
   "execution_count": 13,
   "metadata": {
    "scrolled": false
   },
   "outputs": [
    {
     "data": {
      "text/plain": [
       "<matplotlib.text.Text at 0x1b072cb4550>"
      ]
     },
     "execution_count": 13,
     "metadata": {},
     "output_type": "execute_result"
    },
    {
     "data": {
      "image/png": "[encoded data removed]",
      "text/plain": [
       "<matplotlib.figure.Figure at 0x1b071d742e8>"
      ]
     },
     "metadata": {},
     "output_type": "display_data"
    }
   ],
   "source": [
    "sns.set_palette('coolwarm_r')\n",
    "count_num = company_df['companySize']\\\n",
    "            .value_counts()\\\n",
    "            .reindex(['少于15人','15-50人','50-150人','150-500人',\n",
    "                      '500-2000人','2000人以上'])\n",
    "count_num.plot(kind='pie', autopct='%.2f%%',startangle=90,\n",
    "                  labels=['']*7,\n",
    "                  figsize=(8,8), fontsize=15)\n",
    "plt.legend(['少于15人','15-50人','50-150人','150-500人','500-2000人','2000人以上'],loc='best')\n",
    "plt.ylabel('')\n",
    "plt.title('招聘企业规模比较',fontsize=15)"
   ]
  },
  {
   "cell_type": "markdown",
   "metadata": {},
   "source": [
    "观察上面的饼图，如果不考虑人数少于15人的公司，<font color='red'>公司规模越大，数量越少。西安地区的企业看起来像一个金字塔结构，中小企业占大多数</font>。"
   ]
  },
  {
   "cell_type": "code",
   "execution_count": 14,
   "metadata": {},
   "outputs": [
    {
     "ename": "NameError",
     "evalue": "name 'stage_list' is not defined",
     "output_type": "error",
     "traceback": [
      "\u001b[1;31m---------------------------------------------------------------------------\u001b[0m",
      "\u001b[1;31mNameError\u001b[0m                                 Traceback (most recent call last)",
      "\u001b[1;32m<ipython-input-14-78241a477932>\u001b[0m in \u001b[0;36m<module>\u001b[1;34m()\u001b[0m\n\u001b[0;32m      1\u001b[0m \u001b[0mfig\u001b[0m \u001b[1;33m=\u001b[0m \u001b[0mplt\u001b[0m\u001b[1;33m.\u001b[0m\u001b[0mfigure\u001b[0m\u001b[1;33m(\u001b[0m\u001b[0mfigsize\u001b[0m\u001b[1;33m=\u001b[0m\u001b[1;33m(\u001b[0m\u001b[1;36m15\u001b[0m\u001b[1;33m,\u001b[0m\u001b[1;36m5\u001b[0m\u001b[1;33m)\u001b[0m\u001b[1;33m)\u001b[0m\u001b[1;33m\u001b[0m\u001b[0m\n\u001b[1;32m----> 2\u001b[1;33m \u001b[0msns\u001b[0m\u001b[1;33m.\u001b[0m\u001b[0mcountplot\u001b[0m\u001b[1;33m(\u001b[0m\u001b[0mx\u001b[0m\u001b[1;33m=\u001b[0m\u001b[1;34m'financeStage'\u001b[0m\u001b[1;33m,\u001b[0m \u001b[0mdata\u001b[0m\u001b[1;33m=\u001b[0m\u001b[0mcompany_df\u001b[0m\u001b[1;33m,\u001b[0m \u001b[0morder\u001b[0m\u001b[1;33m=\u001b[0m\u001b[0mstage_list\u001b[0m\u001b[1;33m,\u001b[0m \u001b[0mpalette\u001b[0m\u001b[1;33m=\u001b[0m\u001b[1;34m\"coolwarm_r\"\u001b[0m\u001b[1;33m)\u001b[0m\u001b[1;33m\u001b[0m\u001b[0m\n\u001b[0m",
      "\u001b[1;31mNameError\u001b[0m: name 'stage_list' is not defined"
     ]
    },
    {
     "data": {
      "text/plain": [
       "<matplotlib.figure.Figure at 0x1b071d585f8>"
      ]
     },
     "metadata": {},
     "output_type": "display_data"
    }
   ],
   "source": [
    "fig = plt.figure(figsize=(15,5))\n",
    "sns.countplot(x='financeStage', data=company_df, order=stage_list, palette=\"coolwarm_r\")"
   ]
  },
  {
   "cell_type": "code",
   "execution_count": null,
   "metadata": {
    "collapsed": true,
    "scrolled": true
   },
   "outputs": [],
   "source": [
    "stage_list = ['初创型(不需要融资)','初创型(未融资)','初创型(天使轮)',\n",
    "              '成长型(不需要融资)','成长型(A轮)', '成长型(B轮)',\n",
    "              '成熟型(不需要融资)','成熟型(C轮)', '成熟型(D轮及以上)',\n",
    "              '上市公司', '其他']\n",
    "\n",
    "fig = plt.figure(figsize=(15,5))\n",
    "sns.countplot(x='financeStage', data=company_df, order=stage_list, palette=\"coolwarm_r\")\n",
    "\n",
    "sns.despine(top=True)\n",
    "plt.ylabel('')\n",
    "plt.title('招聘企业发展阶段分布',fontsize=15)"
   ]
  },
  {
   "cell_type": "markdown",
   "metadata": {},
   "source": [
    "从公司的融资阶段来看，和公司规模的分布大致相同，初创型企业最多，特别是未融资的初创企业。排名第二的是成长型不需要融资的企业。从拉勾的企业发展阶段涵盖了企业发展的所有阶段，真是不明白这些其他是属于那个阶段。"
   ]
  },
  {
   "cell_type": "markdown",
   "metadata": {},
   "source": [
    "## 职位维度的分析\n",
    "<br>\n",
    "### 职位对学历的要求"
   ]
  },
  {
   "cell_type": "code",
   "execution_count": null,
   "metadata": {
    "collapsed": true,
    "scrolled": false
   },
   "outputs": [],
   "source": [
    "fig, ax = plt.subplots(nrows=1, ncols=2,figsize=(15,6.9))\n",
    "education_order = ['应届毕业生','1年以下','1-3年',\n",
    "                     '3-5年','5-10年','10年以上','不限']\n",
    "sns.countplot(x='workYear',data=position_df,\\\n",
    "              ax=ax[0],palette='coolwarm_r',\\\n",
    "              order=education_order)\n",
    "\n",
    "sns.despine(left=True)\n",
    "ax[0].set_xlabel('')\n",
    "ax[0].set_ylabel('')\n",
    "ax[0].set_title('工作经验要求',fontsize=12)\n",
    "position_df['education'].value_counts()\\\n",
    "                        .plot(kind='pie', autopct='%.2f%%',\n",
    "                              startangle=90,labeldistance=1.1,\n",
    "                              ax=ax[1],fontsize=12,legend=False,labels=['']*7)\n",
    "plt.legend(list(position_df['education'].value_counts().index))\n",
    "ax[1].set_xlabel('')\n",
    "ax[1].set_ylabel('')\n",
    "ax[1].set_title('学历要求',fontsize=12)"
   ]
  },
  {
   "cell_type": "code",
   "execution_count": null,
   "metadata": {
    "collapsed": true
   },
   "outputs": [],
   "source": [
    "fig = plt.figure(figsize=(15,5))\n",
    "sns.countplot(x='financeStage',data=position_df,hue='workYear',palette='coolwarm_r',order=stage_list)\n",
    "plt.legend(loc='upper right')\n",
    "sns.despine(top=True)\n",
    "plt.xlabel('')\n",
    "plt.ylabel('')\n",
    "plt.title('不同阶段企业对工作经验的要求',fontsize=15)"
   ]
  },
  {
   "cell_type": "markdown",
   "metadata": {},
   "source": [
    "在招职位中，对学历的要求似乎不太高，大专占大多数，极少职位要求硕士。有些职位甚至更开明，对学历没有要求，只要“<font color='ff0000'>有能力，有激情</font>”就行。<br>\n",
    "有1-3年工作经验的本科生需求最大。在外地工作，有一定经验的人可以考虑回西安。"
   ]
  },
  {
   "cell_type": "markdown",
   "metadata": {},
   "source": [
    "### 不同职位的人力需求"
   ]
  },
  {
   "cell_type": "code",
   "execution_count": null,
   "metadata": {
    "collapsed": true
   },
   "outputs": [],
   "source": [
    "def position_item(x):\n",
    "    if x == '市场与销售':\n",
    "        x = '市场/商务/销售类'\n",
    "    elif x == '金融':\n",
    "        x = '金融类'\n",
    "    elif x == '设计':\n",
    "        x = '设计类'\n",
    "    elif x == '产品':\n",
    "        x = '产品/需求/项目类'\n",
    "    elif x == '职能':\n",
    "        x = '综合职能类'\n",
    "    elif x == '运营':\n",
    "        x = '运营/编辑/客服'\n",
    "    elif x == '其它':\n",
    "        x = '其他'\n",
    "    \n",
    "    return x\n",
    "   \n",
    "\n",
    "position_df['firstType'] = position_df['firstType'].map(lambda x:position_item(x))\n",
    "\n",
    "fig,ax = plt.subplots(nrows=1,ncols=2,figsize=(15,10))\n",
    "\n",
    "position_df['firstType'].value_counts(ascending=True).plot(kind='barh',fontsize=15,title='职位一级分类',\n",
    "                                             alpha=0.7, ax=ax[0])\n",
    "\n",
    "position_df['secondType'].value_counts()\\\n",
    "                         .head(20)\\\n",
    "                         .sort_values(ascending=True)\\\n",
    "                         .plot(kind='barh',fontsize=15,title='职位二级分类',alpha=0.7, ax=ax[1])\n",
    "sns.despine(left=True)\n"
   ]
  },
  {
   "cell_type": "markdown",
   "metadata": {},
   "source": [
    "因为职位的二级分类比较多，只取招聘最多的前20个分类。<br>\n",
    "拉勾网的宣传是专注互联网工作机会。一直以为互联网企业的技术类职位需求应该是最多的。在分析后才发现其实不是，市场/商务/销售类的招聘需求最多，其次才是开发/测试/运维类，第三是运营/编辑/客服。而在二级分类中，销售远远高于排名第二的后端开发。"
   ]
  },
  {
   "cell_type": "markdown",
   "metadata": {},
   "source": [
    "## 薪酬的分布"
   ]
  },
  {
   "cell_type": "markdown",
   "metadata": {},
   "source": [
    "薪酬大多是一个范围，取平均值。有的薪酬是用“xxx+”或“xxx以上”，取最小值。"
   ]
  },
  {
   "cell_type": "code",
   "execution_count": null,
   "metadata": {
    "collapsed": true
   },
   "outputs": [],
   "source": [
    "def replace_salary(x):\n",
    "\n",
    "    temp_salary = re.split('-',x)\n",
    "    \n",
    "    temp_salary[0] = str(temp_salary[0]).replace('以上','')\n",
    "    temp_salary[0] = str(temp_salary[0]).replace('+','')\n",
    "    \n",
    "    temp_salary[0] = float(re.sub('[kK]', '000', temp_salary[0]))\n",
    "    \n",
    "    if len(temp_salary)==1:\n",
    "        return temp_salary[0]\n",
    "    else:\n",
    "        temp_salary[1] = float(re.sub('[kK]', '000', temp_salary[1]))\n",
    "        return (temp_salary[0]+temp_salary[1])/2\n",
    "\n",
    "position_df['salary'] = position_df['salary'].map(lambda x:replace_salary(x))"
   ]
  },
  {
   "cell_type": "markdown",
   "metadata": {},
   "source": [
    "### 薪酬整体分布"
   ]
  },
  {
   "cell_type": "code",
   "execution_count": null,
   "metadata": {
    "collapsed": true,
    "scrolled": false
   },
   "outputs": [],
   "source": [
    "#fig, ax = plt.subplots(nrows=1,ncols=3,figsize=(15,7))\n",
    "fig = plt.figure(figsize=(15,7))\n",
    "plt.subplot2grid((1,3),(0,0))\n",
    "sns.boxplot(y='salary',data=position_df,showfliers=False)\n",
    "plt.title('整体薪酬箱形图')\n",
    "plt.subplot2grid((1,3),(0,1),colspan=2)\n",
    "sns.distplot(position_df['salary'],kde=False,bins=100)\n",
    "plt.title('整体薪酬直方图')"
   ]
  },
  {
   "cell_type": "markdown",
   "metadata": {},
   "source": [
    "在薪酬的整体分布上，4000-5000分布是最多的，其次是6000-7000和7000-8000。<br>\n",
    "月薪的中位数是6000，如果月薪达到6000，就超过了一半的人，能达到9000，就超过了75%的人。"
   ]
  },
  {
   "cell_type": "markdown",
   "metadata": {},
   "source": [
    "### 薪酬与职位的关系"
   ]
  },
  {
   "cell_type": "code",
   "execution_count": null,
   "metadata": {
    "collapsed": true
   },
   "outputs": [],
   "source": [
    "fig, ax = plt.subplots(nrows=1, ncols=2, figsize=(15,5))\n",
    "position_df.loc[position_df['jobNature']=='全职',:]\\\n",
    "           .groupby('firstType')['salary']\\\n",
    "           .median()\\\n",
    "           .sort_values(ascending=True)\\\n",
    "           .plot(kind='barh',fontsize=15,alpha=0.7,ax=ax[0],title='一级职位的薪酬中位数')\n",
    "position_df.loc[position_df['jobNature']=='全职',:]\\\n",
    "           .groupby('secondType')['salary']\\\n",
    "           .median()\\\n",
    "           .sort_values(ascending=False).head(10).sort_values(ascending=True)\\\n",
    "           .plot(kind='barh',fontsize=15,alpha=0.7,ax=ax[1],title='二级职位的薪酬中位数')\n",
    "plt.subplots_adjust(wspace=0.5)\n",
    "ax[0].set_ylabel('')\n",
    "ax[1].set_ylabel('')\n",
    "sns.despine(left=True)"
   ]
  },
  {
   "cell_type": "markdown",
   "metadata": {},
   "source": [
    "有一技傍身还是好的。技术类岗位的薪酬最高，超过一半的技术类岗位薪酬超过9000，而在其中的高端技术职位更是超过12000。<br>"
   ]
  },
  {
   "cell_type": "markdown",
   "metadata": {},
   "source": [
    "### 不同发展阶段企业的薪酬"
   ]
  },
  {
   "cell_type": "code",
   "execution_count": null,
   "metadata": {
    "collapsed": true
   },
   "outputs": [],
   "source": [
    "fig, ax = plt.subplots(nrows=2, ncols=1, figsize=(15,8))\n",
    "\n",
    "sns.pointplot(x='financeStage', y='salary', data=position_df.loc[position_df['jobNature']=='全职',:],\n",
    "              estimator=np.median,errwidth=0,order=stage_list,ax=ax[0])\n",
    "#plt.title('不同阶段企业的薪酬中位数',fontsize=15)\n",
    "sns.despine(top=True)\n",
    "ax[0].set_xlabel('')\n",
    "ax[0].set_ylabel('')\n",
    "ax[0].set_title('不同阶段企业的薪酬中位数',fontsize=12)\n",
    "\n",
    "sns.pointplot(x='companySize',y='salary',data=position_df.loc[position_df['jobNature']=='全职',:],\n",
    "              estimator=np.median,errwidth=0,\n",
    "              order=['少于15人','15-50人','50-150人','150-500人','500-2000人','2000人以上'],ax=ax[1])\n",
    "#plt.title('不同规模企业的薪酬中位数',fontsize=15)\n",
    "sns.despine(top=True)\n",
    "ax[1].set_xlabel('')\n",
    "ax[1].set_ylabel('')\n",
    "ax[1].set_title('不同规模企业的薪酬中位数',fontsize=12)"
   ]
  },
  {
   "cell_type": "markdown",
   "metadata": {},
   "source": [
    "成熟型企业的薪酬普遍高于初创型和成长型企业。如果希望钱多，还是要找成熟型企业。但是对比工作经验和学历的要求，这类企业的要求也相对较高，普遍要求3-5年工作经验。"
   ]
  },
  {
   "cell_type": "markdown",
   "metadata": {},
   "source": [
    "### 工作经验与薪酬的关系"
   ]
  },
  {
   "cell_type": "code",
   "execution_count": null,
   "metadata": {
    "collapsed": true,
    "scrolled": true
   },
   "outputs": [],
   "source": [
    "fig = plt.figure(figsize=(15,5))\n",
    "sns.pointplot(x='workYear',y='salary',data=position_df.loc[position_df['jobNature']=='全职',:],\n",
    "            errwidth=0,order=['应届毕业生','1年以下','1-3年','3-5年','5-10年','10年以上','不限'],\n",
    "            estimator=np.median,color='blue',linestyles='--')\n",
    "\n",
    "sns.barplot(x='workYear',y='salary',hue='education',data=position_df.loc[position_df['jobNature']=='全职',:],\n",
    "            errwidth=0,order=['应届毕业生','1年以下','1-3年','3-5年','5-10年','10年以上','不限'],\n",
    "            estimator=np.median, hue_order=['不限','大专','本科','硕士'])\n",
    "#g = sns.FacetGrid(position_df.loc[position_df['jobNature']=='全职',:], col='workYear', col_wrap=4,\n",
    "#                  col_order=['应届毕业生','1年以下','1-3年','3-5年','5-10年','10年以上','不限'])\n",
    "#g = (g.map(sns.pointplot, 'education','salary',estimator=np.median, errwidth=0,\n",
    "#          order=['不限','大专','本科','硕士']).set_axis_labels('',''))\n",
    "plt.title('不同工作经验的薪酬中位数',fontsize=15)\n",
    "sns.despine(top=True)\n",
    "plt.xlabel('')\n",
    "plt.ylabel('') "
   ]
  },
  {
   "cell_type": "markdown",
   "metadata": {},
   "source": [
    "上面的柱状图显示了每种工作经验要求中不同学历的薪酬中位数，折线图展现的是不同工作经验要求对应的薪酬中位数。\n",
    "薪酬高低是高工作经验累计的。5年以上工作经验的能达到10000以上，10年以上更是达到20000。<br>\n",
    "招聘硕士研究生的公司少，但是硕士研究生一旦找到工作就是高薪。但是在10年以上的经验要求中，本科的薪酬高于硕士，估计差距产生的原因是因为公司不同。"
   ]
  },
  {
   "cell_type": "markdown",
   "metadata": {},
   "source": [
    "## 结论\n",
    "1. 找工作，换工作首选高新区，机会最多；\n",
    "2. 有1-3年工作经验，大专学历以上的机会最多，是跳槽的好时机；\n",
    "3. 如果不介意初创型企业，满足结论2的可以尝试，毕竟机会多；\n",
    "4. 懂销售的人，哪里都需要；\n",
    "5. 从事技术开发的人，如果月薪达不到9000，赶紧考虑跳槽；\n",
    "6. 在成熟型大企业，如果一个月工资不到8000，就已经拖了企业后腿。努力点，可以达到10000；\n",
    "7. 硕士生如果跳槽，月薪往10000以上谈，否则都不好意思和人打招呼；\n",
    "8. 年轻人好好工作，十年以后实现财务自由不是梦。"
   ]
  }
 ],
 "metadata": {
  "kernelspec": {
   "display_name": "Python 3",
   "language": "python",
   "name": "python3"
  },
  "language_info": {
   "codemirror_mode": {
    "name": "ipython",
    "version": 3
   },
   "file_extension": ".py",
   "mimetype": "text/x-python",
   "name": "python",
   "nbconvert_exporter": "python",
   "pygments_lexer": "ipython3",
   "version": "3.6.2"
  }
 },
 "nbformat": 4,
 "nbformat_minor": 2
}
